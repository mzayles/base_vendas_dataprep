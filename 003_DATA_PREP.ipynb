{
  "nbformat": 4,
  "nbformat_minor": 0,
  "metadata": {
    "colab": {
      "provenance": []
    },
    "kernelspec": {
      "name": "python3",
      "display_name": "Python 3"
    },
    "language_info": {
      "name": "python"
    }
  },
  "cells": [
    {
      "cell_type": "markdown",
      "source": [
        "# **DATAPREP**"
      ],
      "metadata": {
        "id": "7pnLQk3W2taN"
      }
    },
    {
      "cell_type": "code",
      "source": [
        "\"\"\"\n",
        "    Preparação e tratamento de dados (DataPrep)\n",
        "    Alta probabilidade de erros\n",
        "\n",
        "    - Valores faltantes: valores nulos\n",
        "    - Valores duplicados\n",
        "    - Conversão de tipos de dados (int, float, object ou string, bool)\n",
        "    - Transposição (colunas --> linhas; linhas --> colunas)\n",
        "\n",
        "    Identificando problemas na base de dados\n",
        "    - Valores faltantes: coluna comissão\n",
        "    - Tipo de dados: valor unitario (string > float)\n",
        "                     datas venda e entrega (string > date)\n",
        "    - Padrão no nome das colunas\n",
        "    - Transposição de colunas para linhas\n",
        "\"\"\""
      ],
      "metadata": {
        "id": "w41ZQ0v33WA8"
      },
      "execution_count": null,
      "outputs": []
    },
    {
      "cell_type": "code",
      "source": [
        "import pandas as pd\n",
        "import numpy as np"
      ],
      "metadata": {
        "id": "K7w0vFU73kwa"
      },
      "execution_count": null,
      "outputs": []
    },
    {
      "cell_type": "code",
      "source": [
        "df = pd.read_csv('base_vendas.csv')"
      ],
      "metadata": {
        "id": "_upRQFaFEiAM"
      },
      "execution_count": null,
      "outputs": []
    },
    {
      "cell_type": "code",
      "source": [
        "df.tail()"
      ],
      "metadata": {
        "id": "WvEbCdUMAedg"
      },
      "execution_count": null,
      "outputs": []
    },
    {
      "cell_type": "code",
      "source": [
        "# 3000 linhas e 14 colunas\n",
        "\n",
        "qtd_linhas = df.shape[0]\n",
        "qtd_colunas = df.shape[1]\n",
        "\n",
        "qtd_linhas, qtd_colunas"
      ],
      "metadata": {
        "id": "yudoncsu57Ts"
      },
      "execution_count": null,
      "outputs": []
    },
    {
      "cell_type": "code",
      "source": [
        "# preco_custo, valor_unitario, comissao > converter para float\n",
        "# dt_venda, dt_entrega > converter para datatime\n",
        "\n",
        "df.info()"
      ],
      "metadata": {
        "id": "orAtpQs46b9C"
      },
      "execution_count": null,
      "outputs": []
    },
    {
      "cell_type": "code",
      "source": [
        "df.describe().round(1)"
      ],
      "metadata": {
        "id": "XOKZ0x_zAqRf"
      },
      "execution_count": null,
      "outputs": []
    },
    {
      "cell_type": "code",
      "source": [
        "df.describe(include = object)"
      ],
      "metadata": {
        "id": "qywova1WAuvf"
      },
      "execution_count": null,
      "outputs": []
    },
    {
      "cell_type": "code",
      "source": [
        "# nome das colunas não está padronizado\n",
        "# colunas: 'Nome Funcionario', 'Cargo', 'Categoria\"\n",
        "\n",
        "df.columns"
      ],
      "metadata": {
        "id": "BX2PX9Ka3sfS"
      },
      "execution_count": null,
      "outputs": []
    },
    {
      "cell_type": "code",
      "source": [
        "# 2841 valores nulos\n",
        "# comissão com 94.7% de valores faltantes\n",
        "\n",
        "df.isnull().sum()\n",
        "df.isnull().sum() /qtd_linhas * 100"
      ],
      "metadata": {
        "id": "IY9eWznq5yK8"
      },
      "execution_count": null,
      "outputs": []
    },
    {
      "cell_type": "code",
      "source": [
        "# nenhum dado duplicado\n",
        "df.duplicated().sum()"
      ],
      "metadata": {
        "id": "p92We4856F0a"
      },
      "execution_count": null,
      "outputs": []
    },
    {
      "cell_type": "code",
      "source": [
        "\"\"\" Objetivo: solucionar os problemas identificados \"\"\""
      ],
      "metadata": {
        "id": "A45LxrkdBv8W"
      },
      "execution_count": null,
      "outputs": []
    },
    {
      "cell_type": "code",
      "source": [
        "# padronização no nome das colunas\n",
        "df.columns"
      ],
      "metadata": {
        "id": "C1iT_fu0B0jk"
      },
      "execution_count": null,
      "outputs": []
    },
    {
      "cell_type": "code",
      "source": [
        "colunas = ['matricula_funcionario', 'nome_funcionario', 'cargo', 'codigo_loja',\n",
        "       'nome_loja', 'codigo_produto', 'descricao_produto', 'categoria',\n",
        "       'preco_custo', 'valor_unitario', 'quantidade', 'comissao', 'dt_venda',\n",
        "       'dt_entrega']\n",
        "\n",
        "df.columns = colunas\n",
        "df.columns"
      ],
      "metadata": {
        "id": "0OKMG2dgCFbT"
      },
      "execution_count": null,
      "outputs": []
    },
    {
      "cell_type": "code",
      "source": [
        "# conversão de tipos de dados\n",
        "df.info()"
      ],
      "metadata": {
        "id": "FAZ4yin8CNQE"
      },
      "execution_count": null,
      "outputs": []
    },
    {
      "cell_type": "code",
      "source": [
        "# convertendo int em string - uma coluna por vez\n",
        "\n",
        "df.matricula_funcionario = df.matricula_funcionario.astype('str')\n",
        "df.info()"
      ],
      "metadata": {
        "id": "82AyCebODUyw"
      },
      "execution_count": null,
      "outputs": []
    },
    {
      "cell_type": "code",
      "source": [
        "# convertendo string em float\n",
        "# valor_unitario, preco_custo e comissao\n",
        "# converter mais de um valor na mesma execução\n",
        "# dicionário - dict\n",
        "# problema identificado: vírgula como separador de casa decimal\n",
        "# substituir vírgula por ponto\n",
        "\n",
        "df['valor_unitario'] = df['valor_unitario'].str.replace(',', '.')\n",
        "df['preco_custo'] = df['preco_custo'].str.replace(',', '.')\n",
        "df['comissao'] = df['comissao'].str.replace(',', '.')"
      ],
      "metadata": {
        "id": "RsjPpnUiHSIc"
      },
      "execution_count": null,
      "outputs": []
    },
    {
      "cell_type": "code",
      "source": [
        "df.valor_unitario"
      ],
      "metadata": {
        "id": "jpQR6oYKQOoy"
      },
      "execution_count": null,
      "outputs": []
    },
    {
      "cell_type": "code",
      "source": [
        "df = df.astype(\n",
        "    {\n",
        "        'valor_unitario': np.float64,\n",
        "        'preco_custo': np.float64,\n",
        "        'comissao': np.float64\n",
        "    }\n",
        ")"
      ],
      "metadata": {
        "id": "o2tKcDFRETGO"
      },
      "execution_count": null,
      "outputs": []
    },
    {
      "cell_type": "code",
      "source": [
        "df.info()"
      ],
      "metadata": {
        "id": "8Uqp7v_qGnGO"
      },
      "execution_count": null,
      "outputs": []
    },
    {
      "cell_type": "code",
      "source": [
        "# tratamento de datas - convertendo strings para datetime\n",
        "# placeholder %: localizar a parte da data\n",
        "# y: dois dígitos e Y: quatro dígitos\n",
        "\n",
        "df['dt_venda'] = pd.to_datetime(df['dt_venda'], format='%d/%m/%Y %H:%M')\n",
        "df['dt_entrega'] = pd.to_datetime(df['dt_entrega'], format='%d/%m/%Y %H:%M')"
      ],
      "metadata": {
        "id": "Q950r68cS1Gz"
      },
      "execution_count": null,
      "outputs": []
    },
    {
      "cell_type": "code",
      "source": [
        "df.dt_venda"
      ],
      "metadata": {
        "id": "lU1rpV8iXV8l"
      },
      "execution_count": null,
      "outputs": []
    },
    {
      "cell_type": "code",
      "source": [
        "df.dt_entrega"
      ],
      "metadata": {
        "id": "n5nT4-YYX1Gc"
      },
      "execution_count": null,
      "outputs": []
    },
    {
      "cell_type": "code",
      "source": [
        "# acessando as partes de uma data\n",
        "# dt.day, dt.month, dt.hour, dt.minute\n",
        "\n",
        "df['dt_venda'].dt.year"
      ],
      "metadata": {
        "id": "wQMp1pj2Zn5_"
      },
      "execution_count": null,
      "outputs": []
    },
    {
      "cell_type": "code",
      "source": [
        "\"\"\"\n",
        "    Engenharia de atributos (Feauture Engineering)\n",
        "\n",
        "    - Tratar dados faltantes\n",
        "    - Eliminar atributos\n",
        "    - Adicionar atributos\n",
        "    - Eliminar outliers (muito afastado do comum; elevado; min e max)\n",
        "    - Padronizar variáveis numéricas\n",
        "    - Tratar variáveis categóricas (faixa etária de idade)\n",
        "\"\"\""
      ],
      "metadata": {
        "id": "TVl0fqpLayYk"
      },
      "execution_count": null,
      "outputs": []
    },
    {
      "cell_type": "code",
      "source": [
        "# identificar e tratar valores faltantes (missing values)\n",
        "df.head()"
      ],
      "metadata": {
        "id": "jIdOrvan1u7l"
      },
      "execution_count": null,
      "outputs": []
    },
    {
      "cell_type": "code",
      "source": [
        "# total de valores faltantes por coluna\n",
        "df.isnull().sum() / df.shape[0] * 100"
      ],
      "metadata": {
        "id": "kc_ErpVH2gic"
      },
      "execution_count": null,
      "outputs": []
    },
    {
      "cell_type": "code",
      "source": [
        "# método fillna(): onde encontrar valores faltantes, preenche com X, não importa a coluna, ele vai colocar valor se o campo estiver vazio.\n",
        "# método fill(): pega um valor de referência e vai replicando até encontrar o próximo valor e fazer o mesmo.\n",
        "\n",
        "df.comissao.ffill()"
      ],
      "metadata": {
        "id": "X-woq5qI4TyP"
      },
      "execution_count": null,
      "outputs": []
    },
    {
      "cell_type": "code",
      "source": [
        "# método bfill()\n",
        "# pega um valor de referência de baixo e vai replicando pra cima até encontrar o próximo valor e fazer o mesmo.\n",
        "\n",
        "df.comissao.bfill()"
      ],
      "metadata": {
        "id": "eZACRkXb6UHJ"
      },
      "execution_count": null,
      "outputs": []
    },
    {
      "cell_type": "code",
      "source": [
        "# apagar\n",
        "# não altera o dataframe se o inplace não for True\n",
        "\n",
        "df.drop(columns=['comissao'])"
      ],
      "metadata": {
        "id": "HwyVA6Vk7LeG"
      },
      "execution_count": null,
      "outputs": []
    },
    {
      "cell_type": "code",
      "source": [
        "# apagar as linhas com valores faltantes\n",
        "df.dropna()"
      ],
      "metadata": {
        "id": "yJ8T0IrI79Ku"
      },
      "execution_count": null,
      "outputs": []
    },
    {
      "cell_type": "code",
      "source": [
        "# apagar a linha inteira da coluna com valores faltantes\n",
        "df.dropna(axis='columns')"
      ],
      "metadata": {
        "id": "aq33zmFz9B86"
      },
      "execution_count": null,
      "outputs": []
    },
    {
      "cell_type": "code",
      "source": [
        "# uma forma um pouco melhor de substituir os dados faltantes pelo valor médio da variável\n",
        "df['comissao'].fillna(df['comissao'].mean().round(2)) # média"
      ],
      "metadata": {
        "id": "TCGM-Lqc_i_B"
      },
      "execution_count": null,
      "outputs": []
    },
    {
      "cell_type": "code",
      "source": [
        "# criando uma coluna no dataframe\n",
        "\n",
        "df['valor_total'] = df['quantidade'] * df['valor_unitario']\n",
        "df.head()"
      ],
      "metadata": {
        "id": "f-qLJzLZComx"
      },
      "execution_count": null,
      "outputs": []
    },
    {
      "cell_type": "code",
      "source": [
        "# ordenar por ordem alfábetica e valor do menor para o maior\n",
        "# categoria: True > A - Z\n",
        "# valor_total: False > maior - menor\n",
        "\n",
        "df.sort_values(['categoria', 'valor_total'], ascending=[True, False], inplace=True)\n",
        "df.head()"
      ],
      "metadata": {
        "id": "eMfZVlX5Dpmu"
      },
      "execution_count": null,
      "outputs": []
    },
    {
      "cell_type": "code",
      "source": [
        "df.duplicated().sum()"
      ],
      "metadata": {
        "id": "r_f8eTw4F2C4"
      },
      "execution_count": null,
      "outputs": []
    },
    {
      "cell_type": "code",
      "source": [
        "# duplicidade nem sempre vai ser um problema\n",
        "df['categoria'].duplicated().sum()"
      ],
      "metadata": {
        "id": "26K9MDcJF5qH"
      },
      "execution_count": null,
      "outputs": []
    },
    {
      "cell_type": "code",
      "source": [
        "df['categoria'].value_counts()"
      ],
      "metadata": {
        "id": "Kj08pLdlG74k"
      },
      "execution_count": null,
      "outputs": []
    },
    {
      "cell_type": "code",
      "source": [
        "df.drop_duplicates()\n",
        "df['categoria'].duplicated().sum()"
      ],
      "metadata": {
        "id": "qfBKpu3EGRng"
      },
      "execution_count": null,
      "outputs": []
    }
  ]
}